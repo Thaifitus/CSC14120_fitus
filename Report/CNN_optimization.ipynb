{
  "cells": [
    {
      "cell_type": "markdown",
      "source": [
        "# CSC14120 – PARALLEL PROGRAMMING: FINAL PROJECT\n",
        "\n",
        "Group ID: 12\n",
        "\n",
        "| Họ và tên  | Nguyễn Trương Hoàng Thái  | Trần Quốc Đạt  |\n",
        "|---|---|---|\n",
        "| MSSV  | 20127625  | 20127134  |"
      ],
      "metadata": {
        "id": "pufRSShwXygp"
      },
      "id": "pufRSShwXygp"
    },
    {
      "cell_type": "markdown",
      "source": [
        "# How to run this notebook\n",
        "1. Change `runtime type` to GPU.\n",
        "2. Run all cell and enjoy!"
      ],
      "metadata": {
        "id": "c21zL2f4kbK4"
      },
      "id": "c21zL2f4kbK4"
    },
    {
      "cell_type": "markdown",
      "source": [
        "# Clone repository"
      ],
      "metadata": {
        "id": "YEF6MUMNIpO-"
      },
      "id": "YEF6MUMNIpO-"
    },
    {
      "cell_type": "code",
      "execution_count": null,
      "id": "c825795a",
      "metadata": {
        "id": "c825795a",
        "colab": {
          "base_uri": "https://localhost:8080/"
        },
        "outputId": "da15116d-d3d3-4341-c33a-aa779f015707"
      },
      "outputs": [
        {
          "output_type": "stream",
          "name": "stdout",
          "text": [
            "Cloning into 'lap_trinh_song_song-CSC14120_20KHMT'...\n",
            "remote: Enumerating objects: 1979, done.\u001b[K\n",
            "remote: Counting objects: 100% (109/109), done.\u001b[K\n",
            "remote: Compressing objects: 100% (76/76), done.\u001b[K\n",
            "remote: Total 1979 (delta 43), reused 79 (delta 29), pack-reused 1870\u001b[K\n",
            "Receiving objects: 100% (1979/1979), 76.83 MiB | 25.59 MiB/s, done.\n",
            "Resolving deltas: 100% (378/378), done.\n"
          ]
        }
      ],
      "source": [
        "!git clone https://github.com/Thaifitus/lap_trinh_song_song-CSC14120_20KHMT.git"
      ]
    },
    {
      "cell_type": "markdown",
      "source": [
        "# Build and compile program"
      ],
      "metadata": {
        "id": "eeZItc0_JBeh"
      },
      "id": "eeZItc0_JBeh"
    },
    {
      "cell_type": "code",
      "source": [
        "%cd /content/lap_trinh_song_song-CSC14120_20KHMT\n",
        "# !rm -r ./build # Delete \"build\" folder from previous execution\n",
        "!mkdir build\n",
        "%cd build\n",
        "!cmake ..\n",
        "!make"
      ],
      "metadata": {
        "id": "DMEz-cfbWVKG",
        "colab": {
          "base_uri": "https://localhost:8080/"
        },
        "outputId": "072870fd-a3ac-44e2-cb0d-68ef4cce3a72"
      },
      "id": "DMEz-cfbWVKG",
      "execution_count": null,
      "outputs": [
        {
          "output_type": "stream",
          "name": "stdout",
          "text": [
            "/content/lap_trinh_song_song-CSC14120_20KHMT\n",
            "/content/lap_trinh_song_song-CSC14120_20KHMT/build\n",
            "\u001b[0mCMake Deprecation Warning at CMakeLists.txt:1 (cmake_minimum_required):\n",
            "  Compatibility with CMake < 3.5 will be removed from a future version of\n",
            "  CMake.\n",
            "\n",
            "  Update the VERSION argument <min> value or use a ...<max> suffix to tell\n",
            "  CMake that the project does not need compatibility with older versions.\n",
            "\n",
            "\u001b[0m\n",
            "-- The CXX compiler identification is GNU 11.4.0\n",
            "-- The CUDA compiler identification is NVIDIA 12.2.140\n",
            "-- Detecting CXX compiler ABI info\n",
            "-- Detecting CXX compiler ABI info - done\n",
            "-- Check for working CXX compiler: /usr/bin/c++ - skipped\n",
            "-- Detecting CXX compile features\n",
            "-- Detecting CXX compile features - done\n",
            "-- Detecting CUDA compiler ABI info\n",
            "-- Detecting CUDA compiler ABI info - done\n",
            "-- Check for working CUDA compiler: /usr/local/cuda/bin/nvcc - skipped\n",
            "-- Detecting CUDA compile features\n",
            "-- Detecting CUDA compile features - done\n",
            "-- Configuring done (3.9s)\n",
            "\u001b[33mCMake Warning (dev) in src/CMakeLists.txt:\n",
            "  Policy CMP0104 is not set: CMAKE_CUDA_ARCHITECTURES now detected for NVCC,\n",
            "  empty CUDA_ARCHITECTURES not allowed.  Run \"cmake --help-policy CMP0104\"\n",
            "  for policy details.  Use the cmake_policy command to set the policy and\n",
            "  suppress this warning.\n",
            "\n",
            "  CUDA_ARCHITECTURES is empty for target \"MiniDNNLib\".\n",
            "This warning is for project developers.  Use -Wno-dev to suppress it.\n",
            "\u001b[0m\n",
            "-- Generating done (0.0s)\n",
            "-- Build files have been written to: /content/lap_trinh_song_song-CSC14120_20KHMT/build\n",
            "[  6%] \u001b[32mBuilding CXX object src/CMakeFiles/MiniDNNLib.dir/mnist.cc.o\u001b[0m\n",
            "[ 12%] \u001b[32mBuilding CXX object src/CMakeFiles/MiniDNNLib.dir/network.cc.o\u001b[0m\n",
            "[ 18%] \u001b[32mBuilding CXX object src/CMakeFiles/MiniDNNLib.dir/layer/ave_pooling.cc.o\u001b[0m\n",
            "[ 25%] \u001b[32mBuilding CXX object src/CMakeFiles/MiniDNNLib.dir/layer/conv.cc.o\u001b[0m\n",
            "[ 31%] \u001b[32mBuilding CUDA object src/CMakeFiles/MiniDNNLib.dir/layer/filter.cu.o\u001b[0m\n",
            "[ 37%] \u001b[32mBuilding CXX object src/CMakeFiles/MiniDNNLib.dir/layer/fully_connected.cc.o\u001b[0m\n",
            "[ 43%] \u001b[32mBuilding CXX object src/CMakeFiles/MiniDNNLib.dir/layer/max_pooling.cc.o\u001b[0m\n",
            "[ 50%] \u001b[32mBuilding CXX object src/CMakeFiles/MiniDNNLib.dir/layer/relu.cc.o\u001b[0m\n",
            "[ 56%] \u001b[32mBuilding CXX object src/CMakeFiles/MiniDNNLib.dir/layer/sigmoid.cc.o\u001b[0m\n",
            "[ 62%] \u001b[32mBuilding CXX object src/CMakeFiles/MiniDNNLib.dir/layer/softmax.cc.o\u001b[0m\n",
            "[ 68%] \u001b[32mBuilding CXX object src/CMakeFiles/MiniDNNLib.dir/loss/cross_entropy_loss.cc.o\u001b[0m\n",
            "[ 75%] \u001b[32mBuilding CXX object src/CMakeFiles/MiniDNNLib.dir/loss/mse_loss.cc.o\u001b[0m\n",
            "[ 81%] \u001b[32mBuilding CXX object src/CMakeFiles/MiniDNNLib.dir/optimizer/sgd.cc.o\u001b[0m\n",
            "[ 87%] \u001b[32m\u001b[1mLinking CXX static library libMiniDNNLib.a\u001b[0m\n",
            "[ 87%] Built target MiniDNNLib\n",
            "[ 93%] \u001b[32mBuilding CXX object CMakeFiles/demo.dir/demo.cc.o\u001b[0m\n",
            "[100%] \u001b[32m\u001b[1mLinking CXX executable demo\u001b[0m\n",
            "[100%] Built target demo\n"
          ]
        }
      ]
    },
    {
      "cell_type": "markdown",
      "source": [
        "# Run with host convolution"
      ],
      "metadata": {
        "id": "1EW5_Z2n6lWs"
      },
      "id": "1EW5_Z2n6lWs"
    },
    {
      "cell_type": "code",
      "source": [
        "!./demo 0"
      ],
      "metadata": {
        "id": "iVM9XYuuWmaB",
        "colab": {
          "base_uri": "https://localhost:8080/"
        },
        "outputId": "c2fcf51a-87f4-46a7-dc2f-4603541c4dbd"
      },
      "execution_count": null,
      "outputs": [
        {
          "output_type": "stream",
          "name": "stdout",
          "text": [
            "mnist train number: 60000\n",
            "mnist test number: 10000\n",
            "Use host\n",
            "0-th batch, loss: 2.30436\n",
            "50-th batch, loss: 2.30307\n",
            "100-th batch, loss: 2.30421\n",
            "150-th batch, loss: 2.30438\n",
            "200-th batch, loss: 2.30265\n",
            "250-th batch, loss: 2.30305\n",
            "300-th batch, loss: 2.30205\n",
            "350-th batch, loss: 2.30245\n",
            "400-th batch, loss: 2.3033\n",
            "450-th batch, loss: 2.30154\n",
            "\n",
            "1-th epoch, test acc: 0.1\n",
            "\n",
            "0-th batch, loss: 2.30235\n",
            "50-th batch, loss: 2.3019\n",
            "100-th batch, loss: 2.30197\n",
            "150-th batch, loss: 2.30126\n",
            "200-th batch, loss: 2.29878\n",
            "250-th batch, loss: 2.29522\n",
            "300-th batch, loss: 2.19485\n",
            "350-th batch, loss: 1.52532\n",
            "400-th batch, loss: 1.03688\n",
            "450-th batch, loss: 0.98587\n",
            "\n",
            "2-th epoch, test acc: 0.6093\n",
            "\n",
            "0-th batch, loss: 0.816876\n",
            "50-th batch, loss: 0.873442\n",
            "100-th batch, loss: 0.637464\n",
            "150-th batch, loss: 0.89731\n",
            "200-th batch, loss: 0.781668\n",
            "250-th batch, loss: 0.702516\n",
            "300-th batch, loss: 0.634439\n",
            "350-th batch, loss: 0.765963\n",
            "400-th batch, loss: 0.565993\n",
            "450-th batch, loss: 0.692901\n",
            "\n",
            "3-th epoch, test acc: 0.7663\n",
            "\n",
            "0-th batch, loss: 0.474801\n",
            "50-th batch, loss: 0.562753\n",
            "100-th batch, loss: 0.503141\n",
            "150-th batch, loss: 0.501888\n",
            "200-th batch, loss: 0.60367\n",
            "250-th batch, loss: 0.631846\n",
            "300-th batch, loss: 0.439007\n",
            "350-th batch, loss: 0.581682\n",
            "400-th batch, loss: 0.477746\n",
            "450-th batch, loss: 0.382991\n",
            "\n",
            "4-th epoch, test acc: 0.8123\n",
            "\n",
            "0-th batch, loss: 0.456361\n",
            "50-th batch, loss: 0.394907\n",
            "100-th batch, loss: 0.622893\n",
            "150-th batch, loss: 0.633183\n",
            "200-th batch, loss: 0.413122\n",
            "250-th batch, loss: 0.415152\n",
            "300-th batch, loss: 0.497327\n",
            "350-th batch, loss: 0.581514\n",
            "400-th batch, loss: 0.40746\n",
            "450-th batch, loss: 0.429998\n",
            "\n",
            "5-th epoch, test acc: 0.8297\n",
            "\n",
            "Time taken by program is: 5687 seconds\n"
          ]
        }
      ],
      "id": "iVM9XYuuWmaB"
    },
    {
      "cell_type": "markdown",
      "source": [
        "# Run with device (filter 1) convolution"
      ],
      "metadata": {
        "id": "jzk76TbGJiB9"
      },
      "id": "jzk76TbGJiB9"
    },
    {
      "cell_type": "code",
      "source": [
        "!./demo 1"
      ],
      "metadata": {
        "colab": {
          "base_uri": "https://localhost:8080/"
        },
        "outputId": "7a8973b1-3a67-496f-c295-bb532461f82b",
        "id": "70cDAGkqJiB-"
      },
      "execution_count": null,
      "outputs": [
        {
          "output_type": "stream",
          "name": "stdout",
          "text": [
            "mnist train number: 60000\n",
            "mnist test number: 10000\n",
            "Use device\n",
            "0-th batch, loss: 2.30436\n",
            "50-th batch, loss: 2.30307\n",
            "100-th batch, loss: 2.30421\n",
            "150-th batch, loss: 2.30438\n",
            "200-th batch, loss: 2.30265\n",
            "250-th batch, loss: 2.30305\n",
            "300-th batch, loss: 2.30205\n",
            "350-th batch, loss: 2.30245\n",
            "400-th batch, loss: 2.3033\n",
            "450-th batch, loss: 2.30154\n",
            "\n",
            "1-th epoch, test acc: 0.1\n",
            "\n",
            "0-th batch, loss: 2.30235\n",
            "50-th batch, loss: 2.3019\n",
            "100-th batch, loss: 2.30197\n",
            "150-th batch, loss: 2.30126\n",
            "200-th batch, loss: 2.29878\n",
            "250-th batch, loss: 2.29521\n",
            "300-th batch, loss: 2.19477\n",
            "350-th batch, loss: 1.51164\n",
            "400-th batch, loss: 1.03956\n",
            "450-th batch, loss: 0.988461\n",
            "\n",
            "2-th epoch, test acc: 0.6009\n",
            "\n",
            "0-th batch, loss: 0.814654\n",
            "50-th batch, loss: 0.874354\n",
            "100-th batch, loss: 0.640257\n",
            "150-th batch, loss: 0.900459\n",
            "200-th batch, loss: 0.765159\n",
            "250-th batch, loss: 0.707281\n",
            "300-th batch, loss: 0.622518\n",
            "350-th batch, loss: 0.783432\n",
            "400-th batch, loss: 0.572333\n",
            "450-th batch, loss: 0.708866\n",
            "\n",
            "3-th epoch, test acc: 0.7679\n",
            "\n",
            "0-th batch, loss: 0.461703\n",
            "50-th batch, loss: 0.554867\n",
            "100-th batch, loss: 0.498403\n",
            "150-th batch, loss: 0.494552\n",
            "200-th batch, loss: 0.610224\n",
            "250-th batch, loss: 0.629049\n",
            "300-th batch, loss: 0.442213\n",
            "350-th batch, loss: 0.57384\n",
            "400-th batch, loss: 0.472592\n",
            "450-th batch, loss: 0.401967\n",
            "\n",
            "4-th epoch, test acc: 0.812\n",
            "\n",
            "0-th batch, loss: 0.460375\n",
            "50-th batch, loss: 0.397528\n",
            "100-th batch, loss: 0.627361\n",
            "150-th batch, loss: 0.622097\n",
            "200-th batch, loss: 0.421859\n",
            "250-th batch, loss: 0.418555\n",
            "300-th batch, loss: 0.513622\n",
            "350-th batch, loss: 0.588495\n",
            "400-th batch, loss: 0.409902\n",
            "450-th batch, loss: 0.411923\n",
            "\n",
            "5-th epoch, test acc: 0.8277\n",
            "\n",
            "Time taken by program is: 4463 seconds\n"
          ]
        }
      ],
      "id": "70cDAGkqJiB-"
    },
    {
      "cell_type": "markdown",
      "source": [
        "# Run with device (filter 2) convolution"
      ],
      "metadata": {
        "id": "cHakucqjGN2x"
      },
      "id": "cHakucqjGN2x"
    },
    {
      "cell_type": "code",
      "source": [
        "!./demo 2"
      ],
      "metadata": {
        "colab": {
          "base_uri": "https://localhost:8080/"
        },
        "outputId": "add725a8-ef04-4993-a31e-eb6eb4181b7f",
        "id": "wZ5WjU8dGN2x"
      },
      "execution_count": null,
      "outputs": [
        {
          "output_type": "stream",
          "name": "stdout",
          "text": [
            "mnist train number: 60000\n",
            "mnist test number: 10000\n",
            "Use device: filter type 2\n",
            "0-th batch, loss: 2.30436\n",
            "50-th batch, loss: 2.30307\n",
            "100-th batch, loss: 2.30421\n",
            "150-th batch, loss: 2.30438\n",
            "200-th batch, loss: 2.30265\n",
            "250-th batch, loss: 2.30305\n",
            "300-th batch, loss: 2.30205\n",
            "350-th batch, loss: 2.30245\n",
            "400-th batch, loss: 2.3033\n",
            "450-th batch, loss: 2.30153\n",
            "\n",
            "1-th epoch, test acc: 0.1\n",
            "\n",
            "0-th batch, loss: 2.30234\n",
            "50-th batch, loss: 2.30188\n",
            "100-th batch, loss: 2.30191\n",
            "150-th batch, loss: 2.30114\n",
            "200-th batch, loss: 2.29836\n",
            "250-th batch, loss: 2.29377\n",
            "300-th batch, loss: 2.15165\n",
            "350-th batch, loss: 1.32962\n",
            "400-th batch, loss: 1.00415\n",
            "450-th batch, loss: 0.965505\n",
            "\n",
            "2-th epoch, test acc: 0.6047\n",
            "\n",
            "0-th batch, loss: 0.813503\n",
            "50-th batch, loss: 0.879175\n",
            "100-th batch, loss: 0.634707\n",
            "150-th batch, loss: 0.891244\n",
            "200-th batch, loss: 0.76387\n",
            "250-th batch, loss: 0.704827\n",
            "300-th batch, loss: 0.626307\n",
            "350-th batch, loss: 0.75534\n",
            "400-th batch, loss: 0.569442\n",
            "450-th batch, loss: 0.705785\n",
            "\n",
            "3-th epoch, test acc: 0.7682\n",
            "\n",
            "0-th batch, loss: 0.46575\n",
            "50-th batch, loss: 0.540565\n",
            "100-th batch, loss: 0.496413\n",
            "150-th batch, loss: 0.499409\n",
            "200-th batch, loss: 0.603766\n",
            "250-th batch, loss: 0.61905\n",
            "300-th batch, loss: 0.442888\n",
            "350-th batch, loss: 0.556236\n",
            "400-th batch, loss: 0.479718\n",
            "450-th batch, loss: 0.388093\n",
            "\n",
            "4-th epoch, test acc: 0.8101\n",
            "\n",
            "0-th batch, loss: 0.472621\n",
            "50-th batch, loss: 0.414927\n",
            "100-th batch, loss: 0.62981\n",
            "150-th batch, loss: 0.629256\n",
            "200-th batch, loss: 0.419654\n",
            "250-th batch, loss: 0.393265\n",
            "300-th batch, loss: 0.516574\n",
            "350-th batch, loss: 0.598627\n",
            "400-th batch, loss: 0.39644\n",
            "450-th batch, loss: 0.433225\n",
            "\n",
            "5-th epoch, test acc: 0.8282\n",
            "\n",
            "Time taken by program is: 4484 seconds\n"
          ]
        }
      ],
      "id": "wZ5WjU8dGN2x"
    },
    {
      "cell_type": "markdown",
      "source": [
        "# Run with device (filter 3) convolution"
      ],
      "metadata": {
        "id": "daDvajugGOkg"
      },
      "id": "daDvajugGOkg"
    },
    {
      "cell_type": "code",
      "source": [
        "!./demo 3"
      ],
      "metadata": {
        "colab": {
          "base_uri": "https://localhost:8080/"
        },
        "outputId": "e760ba44-e8ad-4f38-cc1d-aa252d55b470",
        "id": "QohMhrvzGOkg"
      },
      "execution_count": null,
      "outputs": [
        {
          "output_type": "stream",
          "name": "stdout",
          "text": [
            "mnist train number: 60000\n",
            "mnist test number: 10000\n",
            "Use device: filter type 3\n",
            "0-th batch, loss: 2.30436\n",
            "50-th batch, loss: 2.30308\n",
            "100-th batch, loss: 2.30421\n",
            "150-th batch, loss: 2.30438\n",
            "200-th batch, loss: 2.30265\n",
            "250-th batch, loss: 2.30305\n",
            "300-th batch, loss: 2.30205\n",
            "350-th batch, loss: 2.30246\n",
            "400-th batch, loss: 2.3033\n",
            "450-th batch, loss: 2.30154\n",
            "\n",
            "1-th epoch, test acc: 0.1\n",
            "\n",
            "0-th batch, loss: 2.30235\n",
            "50-th batch, loss: 2.3019\n",
            "100-th batch, loss: 2.30196\n",
            "150-th batch, loss: 2.30125\n",
            "200-th batch, loss: 2.29872\n",
            "250-th batch, loss: 2.29498\n",
            "300-th batch, loss: 2.18869\n",
            "350-th batch, loss: 1.36835\n",
            "400-th batch, loss: 1.03118\n",
            "450-th batch, loss: 0.990081\n",
            "\n",
            "2-th epoch, test acc: 0.6003\n",
            "\n",
            "0-th batch, loss: 0.826569\n",
            "50-th batch, loss: 0.873573\n",
            "100-th batch, loss: 0.635583\n",
            "150-th batch, loss: 0.90001\n",
            "200-th batch, loss: 0.77787\n",
            "250-th batch, loss: 0.714805\n",
            "300-th batch, loss: 0.623587\n",
            "350-th batch, loss: 0.755717\n",
            "400-th batch, loss: 0.566822\n",
            "450-th batch, loss: 0.696643\n",
            "\n",
            "3-th epoch, test acc: 0.7681\n",
            "\n",
            "0-th batch, loss: 0.466656\n",
            "50-th batch, loss: 0.55615\n",
            "100-th batch, loss: 0.494714\n",
            "150-th batch, loss: 0.489208\n",
            "200-th batch, loss: 0.600309\n",
            "250-th batch, loss: 0.608002\n",
            "300-th batch, loss: 0.438798\n",
            "350-th batch, loss: 0.585518\n",
            "400-th batch, loss: 0.483515\n",
            "450-th batch, loss: 0.397604\n",
            "\n",
            "4-th epoch, test acc: 0.8114\n",
            "\n",
            "0-th batch, loss: 0.462415\n",
            "50-th batch, loss: 0.405492\n",
            "100-th batch, loss: 0.642848\n",
            "150-th batch, loss: 0.623241\n",
            "200-th batch, loss: 0.415208\n",
            "250-th batch, loss: 0.404134\n",
            "300-th batch, loss: 0.501584\n",
            "350-th batch, loss: 0.592377\n",
            "400-th batch, loss: 0.389297\n",
            "450-th batch, loss: 0.419581\n",
            "\n",
            "5-th epoch, test acc: 0.8305\n",
            "\n",
            "Time taken by program is: 4472 seconds\n"
          ]
        }
      ],
      "id": "QohMhrvzGOkg"
    }
  ],
  "metadata": {
    "kernelspec": {
      "display_name": "Python 3",
      "name": "python3"
    },
    "language_info": {
      "codemirror_mode": {
        "name": "ipython",
        "version": 3
      },
      "file_extension": ".py",
      "mimetype": "text/x-python",
      "name": "python",
      "nbconvert_exporter": "python",
      "pygments_lexer": "ipython3",
      "version": "3.9.16"
    },
    "colab": {
      "provenance": [],
      "gpuType": "T4"
    },
    "accelerator": "GPU"
  },
  "nbformat": 4,
  "nbformat_minor": 5
}