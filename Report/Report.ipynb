{
  "cells": [
    {
      "cell_type": "markdown",
      "metadata": {
        "id": "Pir219wbrnkJ"
      },
      "source": [
        "# THỰC HIỆN\n",
        "Cần lưu ý ở file demo.cc trước khi chạy: dataset - model - epoch.\n",
        "\n",
        "Chỉnh sửa ở file demo.cc:\n",
        "* Thêm thư viện time.h và 2 đối tượng time_t: start + end để đo thời gian train.\n",
        "* Convolutional layer (Conv2D) có filter 5x5, stride = 1x1, padding = 0, số lượng là 6 và 16 tương ứng với mô hình.\n",
        "* Pooling layer (MaxPooling2D) có kích thước là 2x2, stride = 2x2, padding = 0."
      ]
    },
    {
      "cell_type": "markdown",
      "metadata": {
        "id": "sV_k2p-lupXk"
      },
      "source": [
        "# KẾ HOẠCH THỰC HIỆN\n",
        "20-26/11: tìm hiểu về cnn, LeNet-5, setup và chạy mã nguồn mini-dnn-cpp với bộ dữ liệu mnist.\n",
        "\n",
        "27/11 - 03/12: tìm hiểu mã nguồn mini-dnn-cpp, thay đổi mô hình với cấu trúc LeNet-5 (được tinh chỉnh theo yêu cầu của đồ án) và chạy mô hình trên tập dữ liệu fashion MNIST.\n",
        "\n",
        "08/12 - 17/12: cài đặt GPU Convolution kernel cơ bản.\n",
        "\n"
      ]
    },
    {
      "cell_type": "markdown",
      "metadata": {
        "id": "rKCAsuFKupjk"
      },
      "source": [
        "# NGUỒN THAM KHẢO\n",
        "BASE MODEL: mini-dnn-cpp\n",
        "* https://github.com/iamhankai/mini-dnn-cpp.git\n",
        "\n",
        "DATASET: fashion MNIST\n",
        "* https://github.com/zalandoresearch/fashion-mnist\n",
        "\n",
        "RELATED KNOWLEDGE: CNN + LeNet-5\n",
        "* https://www.kaggle.com/code/blurredmachine/lenet-architecture-a-complete-guide/notebook\n",
        "* https://setosa.io/ev/image-kernels/\n",
        "* https://poloclub.github.io/cnn-explainer/\n",
        "* https://www.tensorflow.org/\n",
        "*\n"
      ]
    }
  ],
  "metadata": {
    "colab": {
      "provenance": []
    },
    "kernelspec": {
      "display_name": "Python 3",
      "name": "python3"
    },
    "language_info": {
      "name": "python"
    }
  },
  "nbformat": 4,
  "nbformat_minor": 0
}
