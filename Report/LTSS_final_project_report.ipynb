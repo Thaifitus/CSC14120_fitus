{
  "nbformat": 4,
  "nbformat_minor": 0,
  "metadata": {
    "colab": {
      "provenance": []
    },
    "kernelspec": {
      "name": "python3",
      "display_name": "Python 3"
    },
    "language_info": {
      "name": "python"
    }
  },
  "cells": [
    {
      "cell_type": "code",
      "execution_count": null,
      "metadata": {
        "id": "UcwZEF6xuQiD"
      },
      "outputs": [],
      "source": []
    },
    {
      "cell_type": "code",
      "source": [],
      "metadata": {
        "id": "X5PXpEpcuVkZ"
      },
      "execution_count": null,
      "outputs": []
    },
    {
      "cell_type": "markdown",
      "source": [
        "# THỰC HIỆN\n",
        "Cần lưu ý ở file demo.cc trước khi chạy: dataset - model - epoch.\n",
        "\n",
        "Chỉnh sửa ở file demo.cc:\n",
        "* Thêm thư viện time.h và 2 đối tượng time_t: start + end để đo thời gian train.\n",
        "* Convolutional layer (Conv2D) có stride = 1, padding = 0.\n",
        "* Pooling layer (MaxPooling2D) có stride = 2 (2x2)."
      ],
      "metadata": {
        "id": "Pir219wbrnkJ"
      }
    },
    {
      "cell_type": "markdown",
      "source": [
        "# KẾ HOẠCH THỰC HIỆN\n",
        "20-26/11: tìm hiểu về cnn, LeNet-5, setup và chạy mã nguồn mini-dnn-cpp với bộ dữ liệu mnist.\n",
        "\n",
        "27/11 - 03/12: tìm hiểu mã nguồn mini-dnn-cpp, thay đổi mô hình với cấu trúc LeNet-5 (được tinh chỉnh theo yêu cầu của đồ án) và chạy mô hình trên tập dữ liệu fashion MNIST.\n",
        "\n",
        "08/12 - 17/12: cài đặt GPU Convolution kernel cơ bản.\n",
        "\n"
      ],
      "metadata": {
        "id": "sV_k2p-lupXk"
      }
    },
    {
      "cell_type": "markdown",
      "source": [
        "# NGUỒN THAM KHẢO\n",
        "BASE MODEL: mini-dnn-cpp\n",
        "* https://github.com/iamhankai/mini-dnn-cpp.git\n",
        "\n",
        "DATASET: fashion MNIST\n",
        "* https://github.com/zalandoresearch/fashion-mnist\n",
        "\n",
        "RELATED KNOWLEDGE: CNN + LeNet-5\n",
        "* https://www.kaggle.com/code/blurredmachine/lenet-architecture-a-complete-guide/notebook\n",
        "* https://setosa.io/ev/image-kernels/\n",
        "* https://poloclub.github.io/cnn-explainer/\n",
        "* https://www.tensorflow.org/\n",
        "*\n"
      ],
      "metadata": {
        "id": "rKCAsuFKupjk"
      }
    }
  ]
}